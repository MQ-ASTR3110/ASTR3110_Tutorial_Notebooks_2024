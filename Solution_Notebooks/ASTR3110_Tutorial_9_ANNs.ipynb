{
 "cells": [
  {
   "cell_type": "markdown",
   "metadata": {},
   "source": [
    "# Artificial Neural Networks\n",
    "\n",
    "Artifical neural networks (ANNs) are applied as a supervised learning technique to classify data into known classes.\n",
    "\n",
    "![SegmentLocal](Images/curve_fit.png \"curvefit\")\n",
    "\n",
    "\n",
    "\\begin{align}\n",
    "y & = W_1\\,x^4 + W_2\\,x^3 + W_3\\,x^2 + W_4\\,x + W_5\\\\\n",
    "\\end{align}\n",
    "\n",
    "You can think of them as a cousin of familiar curve-fitting, but taken to higher dimensions. For example, when fitting a polynomial curve to a dataset we learn the values of the coefficients $W$ so that the model curve can accurately predict an outcome given input data. Similarly, for an ANN classifier, we learn a set of weights (coefficients) between the neurons so the the network can accurately predict a label for input training data.\n",
    "\n",
    "![SegmentLocal](Images/ANN_1layer.svg \"ANN1\")\n",
    "\n",
    "In both cases the fitting procedure employs a measure of how well model performs. For curve fitting the distance between the data and model is minimised (e.g., $\\chi^2$ or least-squared distance), while for an ANN classifier a *loss function* is minimised.\n",
    "\n",
    "When training the classifier, the loss function desires the following state:\n",
    "\n",
    "<img src=\"Images/loss_margin.jpg\">\n",
    "\n",
    "Scores inside the red region (or higher) will accumulate a loss, while scores below will accumulate zero loss.\n",
    "\n",
    "Some articles I found helpful: a high-level description at [this link](https://becominghuman.ai/understanding-neural-networks-1-the-concept-of-neurons-287be36d40f), more detail at [this link](https://towardsdatascience.com/understanding-neural-networks-19020b758230) and [this link](http://neuralnetworksanddeeplearning.com/chap1.html).\n",
    "\n",
    "## Stochastic Gradient Descent and mini-batches\n",
    "\n",
    "Minimisation is done iteratively via gradient descent:\n",
    " * Randomly initialise the weights between neurons\n",
    " * assess the performance of the network using the loss function\n",
    " * examine the slope of the loss surface and jump 'down-hill'\n",
    " * rinse and repeat until no improvement is seen\n",
    "\n",
    "![SegmentLocal](Images/grad_descent.gif \"descent\")\n",
    "\n",
    "This is superficially similar fitting a polynomial curve, however, there are two major differences:\n",
    " 1. the weight coefficients are not independent - the output of neurons are affected by all in the chain before them\n",
    " 1. the very large datasets required by ANNs will not fit in memory\n",
    " \n",
    "The first probem is addressed by back-propagating the gradients using the chain-rule. The second problem is solved by only training on a subset of the data, called a 'mini-batch' (or just 'batch'), and randomly changing the selection of this data every cycle."
   ]
  },
  {
   "cell_type": "markdown",
   "metadata": {},
   "source": [
    "## Implementing ANNs using Keras\n",
    "\n",
    "In the last 10 years there has been an explosion in the availability of software for [deep learning](https://en.wikipedia.org/wiki/Comparison_of_deep-learning_software). One of the most popular is [Keras](https://keras.io/), which is a layer on top of Google's [TensorFlow](https://www.tensorflow.org/versions) machine learning and matrix manipulation library. (Alternatives are PyTorch, developed by Facebook, and CNTK by Microsoft). \n",
    "\n",
    "Performing the gradient descent step on even moderately large ANNs requires very intensive calculations. TensorFlow (and Keras) can take advantage of the parallel processing power offered by Graphics Processing Units (GPUs) to vastly accelerate the training step.\n"
   ]
  },
  {
   "cell_type": "markdown",
   "metadata": {},
   "source": [
    "## Classifying handwriting - the MNIST dataset\n",
    "\n",
    "Historically, one of the simplest tasks ANNs were applied to was handwriting recognition. In this notebook we will build an ANN to classify small images of handwritten digits [0 - 9]. This is a classic entry-level problem in machine learning.\n",
    "\n",
    "The Modified National Institute of Standards and Technology (MNIST) dataset contains 60,000 training images and 10,000 testing images of handwritten digits as 28x28 pixel black & white images.\n",
    "\n",
    "![SegmentLocal](Images/MNIST_grid.png \"MNIST_grid\")\n",
    "\n",
    "These images are encoded with intensity values [0 - 255], so we usually scale them [0 - 1] by dividing by 255.0."
   ]
  },
  {
   "cell_type": "markdown",
   "metadata": {},
   "source": [
    "### Coding the classifier\n",
    "\n",
    "Here we build a simple neural network classifier with two 'hidden layers'. The number of neurons in the *input layer* corresponds to each pixel of an image fed into the network. The number of neurons in the *output layer* corresponds to the possible classes.\n",
    "\n",
    "![SegmentLocal](Images/ANN_2layers.png \"ANN2\")"
   ]
  },
  {
   "cell_type": "markdown",
   "metadata": {},
   "source": [
    "For convenience the MNIST data is stored on disk as a Numpy save file containing a 3D array (images) or 1D array (labels 0 - 9). It is small enough to fit into memory. In this case, the data is already split into training and test sets."
   ]
  },
  {
   "cell_type": "code",
   "execution_count": 1,
   "metadata": {},
   "outputs": [
    {
     "name": "stdout",
     "output_type": "stream",
     "text": [
      "Training array shape: (20000, 28, 28)\n",
      "Labels shape (20000,)\n"
     ]
    }
   ],
   "source": [
    "import numpy as np\n",
    "\n",
    "# Load the training images and labels from Numpy save files\n",
    "trainX = np.load('DATA/minimnist/train_images.npy')\n",
    "trainY = np.load('DATA/minimnist/train_labels.npy')\n",
    "\n",
    "#take a look at the shapes to see what we're dealing with.\n",
    "print(\"Training array shape:\", trainX.shape)\n",
    "print(\"Labels shape\", trainY.shape)"
   ]
  },
  {
   "cell_type": "code",
   "execution_count": 2,
   "metadata": {},
   "outputs": [
    {
     "name": "stdout",
     "output_type": "stream",
     "text": [
      "Testing array shape: (5000, 28, 28)\n",
      "Labels shape (5000,)\n"
     ]
    }
   ],
   "source": [
    "# Load the testing images and labels from Numpy save files\n",
    "#Later, these will also be referred to as the \"validation\" set.\n",
    "testX = np.load('DATA/minimnist/test_images.npy')\n",
    "testY = np.load('DATA/minimnist/test_labels.npy')\n",
    "print(\"Testing array shape:\", testX.shape)\n",
    "print(\"Labels shape\", testY.shape)"
   ]
  },
  {
   "cell_type": "markdown",
   "metadata": {},
   "source": [
    "Let's plot an individual image and display some statistics of the inetensity:"
   ]
  },
  {
   "cell_type": "code",
   "execution_count": 3,
   "metadata": {},
   "outputs": [
    {
     "data": {
      "image/png": "[encoded data removed]",
      "text/plain": [
       "<Figure size 432x288 with 1 Axes>"
      ]
     },
     "metadata": {
      "needs_background": "light"
     },
     "output_type": "display_data"
    }
   ],
   "source": [
    "import matplotlib.pyplot as plt\n",
    "%matplotlib inline\n",
    "\n",
    "# Show a randomly chosen image\n",
    "img = testX[17,:,:]\n",
    "plt.imshow(img);"
   ]
  },
  {
   "cell_type": "code",
   "execution_count": 4,
   "metadata": {},
   "outputs": [
    {
     "name": "stdout",
     "output_type": "stream",
     "text": [
      "Min intensity =  0\n",
      "Max intensity =  255\n",
      "Image label =  7\n",
      "Encoding =  uint8\n"
     ]
    }
   ],
   "source": [
    "# Determine some stats and print -- we need to know these for later on when we renormalise the data in \n",
    "#preparation for the ANN.\n",
    "print(\"Min intensity = \", np.nanmin(img)) #what's the minimum value in the images?\n",
    "print(\"Max intensity = \", np.nanmax(img)) #maximum?\n",
    "print(\"Image label = \", testY[17])\n",
    "print(\"Encoding = \", img.dtype)#number of different types of datasets in np.array. We have used floating points a lot\n",
    "                              # (single and double precision), uint is an 8-bit unsigned integer. Standard type for \n",
    "                             # pngs. Later, we will convert to float."
   ]
  },
  {
   "cell_type": "markdown",
   "metadata": {},
   "source": [
    "Both the training and test data should be converted into floating point precision and scaled into the range [0 - 1]. Machine learning algorithms tend to expect data in this format, unless otherwise specified."
   ]
  },
  {
   "cell_type": "code",
   "execution_count": 5,
   "metadata": {},
   "outputs": [
    {
     "name": "stdout",
     "output_type": "stream",
     "text": [
      "Min intensity =  0.0\n",
      "Max intensity =  1.0\n"
     ]
    }
   ],
   "source": [
    "#Convert into float and rescale the intensities [0, 1]\n",
    "#astype can be used on all numpy arrays to change type.\n",
    "trainX = trainX.astype(\"float\")  /255.0\n",
    "testX = testX.astype(\"float\")  /255.0\n",
    "#check this worked.\n",
    "print(\"Min intensity = \", np.nanmin(trainX[17]))\n",
    "print(\"Max intensity = \", np.nanmax(trainX[17]))"
   ]
  },
  {
   "cell_type": "markdown",
   "metadata": {},
   "source": [
    "We need to re-encode our labels as one-hot vectors. Previously, we've had single-integer labels that classify datapoints as 0 or 1. Here, we need to do things slightly differently, but still using 1s and 0s.\n",
    "\n",
    "E.g., we have a vector with 3 values in the range 0-9: $x=[2, 4, 8]$. To label these with 1-hot vectors, we need a 2D array with 3 rows (one for each value) by 10 columns (1 for each possible value from 0-9):\n",
    "\n",
    "lab = [[0,0,1,0,0,0,0,0,0,0,0],\\\n",
    "          [0,0,0,0,1,0,0,0,0,0,0],\\\n",
    "          [0,0,0,0,0,0,0,0,1,0,0]]\n",
    "          \n",
    "\n",
    "This \"binarizes\" our labels, which is the format required for future code. Thankfully, there is a preprocessing class \n",
    "in scikit learn called LabelBinarizer that does this for us."
   ]
  },
  {
   "cell_type": "code",
   "execution_count": 6,
   "metadata": {},
   "outputs": [
    {
     "name": "stdout",
     "output_type": "stream",
     "text": [
      "[0 0 0 0 0 0 0 1 0 0]\n"
     ]
    },
    {
     "data": {
      "text/plain": [
       "array([[7]], dtype=uint8)"
      ]
     },
     "execution_count": 6,
     "metadata": {},
     "output_type": "execute_result"
    }
   ],
   "source": [
    "from sklearn.preprocessing import LabelBinarizer\n",
    "\n",
    "# Create one-hot label vectors\n",
    "\n",
    "#create instance of class (no arguments required here)\n",
    "lb = LabelBinarizer()\n",
    "\n",
    "#not fitting, but this is the name of the function that converts our \n",
    "#labels (0-9) into the one-hot vector format required. can use either\n",
    "#fit_transform, or transform.\n",
    "trainY = lb.fit_transform(trainY)\n",
    "testY = lb.transform(testY)\n",
    "\n",
    "# Show that we have done the converson OK -- recall above index 17 showed image of number 7.\n",
    "print(testY[17])\n",
    "indx = np.argwhere(testY[17])#argwhere returns the indexes of an array thart are non-zero \n",
    "lb.classes_[indx]#classes_ is the key that returns the class value for our binary labels."
   ]
  },
  {
   "cell_type": "code",
   "execution_count": 7,
   "metadata": {},
   "outputs": [
    {
     "data": {
      "text/plain": [
       "(20000, 10)"
      ]
     },
     "execution_count": 7,
     "metadata": {},
     "output_type": "execute_result"
    }
   ],
   "source": [
    "trainY.shape"
   ]
  },
  {
   "cell_type": "markdown",
   "metadata": {},
   "source": [
    "We also need to flatten each image into a vector of 784 pixels so that it can be injected into the bottom layer of the network."
   ]
  },
  {
   "cell_type": "code",
   "execution_count": 8,
   "metadata": {},
   "outputs": [
    {
     "name": "stdout",
     "output_type": "stream",
     "text": [
      "(20000, 784)\n"
     ]
    }
   ],
   "source": [
    "# Reshape the train and test image stacks\n",
    "#ANNs take in 1D datasets, so need to transfrom our 2D images.\n",
    "#set variable dim which gives the shape of the dataset\n",
    "dim=trainX.shape\n",
    "\n",
    "#now let's reshape the dataset into a 20,000 image by 784 pixel array\n",
    "trainX = trainX.reshape((-1, dim[1]*dim[2]))\n",
    "testX = testX.reshape((-1, dim[1]*dim[2]))\n",
    "\n",
    "#take a look at the new shape\n",
    "print(trainX.shape)"
   ]
  },
  {
   "cell_type": "markdown",
   "metadata": {},
   "source": [
    "Now it is time to define the architecture of our network. Keras supports the creation of complicated networks with multiple input or output branchs. However, we will define a simple straight-through \"Sequential\" network with two hidden layers containing 256 and 128 neurons, respectively. There should be 784 input neurons corresponding to the number of pixels in an image (28 * 28) and 10 output neurons, one for each digit.\n",
    "\n",
    "In Keras, the 'Dense' layer represents a layer of neurons where each neuron will be connected to all other neurons in layers immediately above and below. \n",
    "\n",
    "The activation function scales the output of the neuron in a non-linear way, allowing the network to model non-linear systems.\n",
    "\n",
    "![SegmentLocal](Images/SigmoidFunction.png \"sigmoid\")"
   ]
  },
  {
   "cell_type": "code",
   "execution_count": 9,
   "metadata": {},
   "outputs": [
    {
     "name": "stderr",
     "output_type": "stream",
     "text": [
      "Using TensorFlow backend.\n",
      "/Users/mq20150564/software/anaconda2/envs/python37/lib/python3.7/site-packages/tensorflow/python/framework/dtypes.py:516: FutureWarning: Passing (type, 1) or '1type' as a synonym of type is deprecated; in a future version of numpy, it will be understood as (type, (1,)) / '(1,)type'.\n",
      "  _np_qint8 = np.dtype([(\"qint8\", np.int8, 1)])\n",
      "/Users/mq20150564/software/anaconda2/envs/python37/lib/python3.7/site-packages/tensorflow/python/framework/dtypes.py:517: FutureWarning: Passing (type, 1) or '1type' as a synonym of type is deprecated; in a future version of numpy, it will be understood as (type, (1,)) / '(1,)type'.\n",
      "  _np_quint8 = np.dtype([(\"quint8\", np.uint8, 1)])\n",
      "/Users/mq20150564/software/anaconda2/envs/python37/lib/python3.7/site-packages/tensorflow/python/framework/dtypes.py:518: FutureWarning: Passing (type, 1) or '1type' as a synonym of type is deprecated; in a future version of numpy, it will be understood as (type, (1,)) / '(1,)type'.\n",
      "  _np_qint16 = np.dtype([(\"qint16\", np.int16, 1)])\n",
      "/Users/mq20150564/software/anaconda2/envs/python37/lib/python3.7/site-packages/tensorflow/python/framework/dtypes.py:519: FutureWarning: Passing (type, 1) or '1type' as a synonym of type is deprecated; in a future version of numpy, it will be understood as (type, (1,)) / '(1,)type'.\n",
      "  _np_quint16 = np.dtype([(\"quint16\", np.uint16, 1)])\n",
      "/Users/mq20150564/software/anaconda2/envs/python37/lib/python3.7/site-packages/tensorflow/python/framework/dtypes.py:520: FutureWarning: Passing (type, 1) or '1type' as a synonym of type is deprecated; in a future version of numpy, it will be understood as (type, (1,)) / '(1,)type'.\n",
      "  _np_qint32 = np.dtype([(\"qint32\", np.int32, 1)])\n",
      "/Users/mq20150564/software/anaconda2/envs/python37/lib/python3.7/site-packages/tensorflow/python/framework/dtypes.py:525: FutureWarning: Passing (type, 1) or '1type' as a synonym of type is deprecated; in a future version of numpy, it will be understood as (type, (1,)) / '(1,)type'.\n",
      "  np_resource = np.dtype([(\"resource\", np.ubyte, 1)])\n",
      "/Users/mq20150564/software/anaconda2/envs/python37/lib/python3.7/site-packages/tensorboard/compat/tensorflow_stub/dtypes.py:541: FutureWarning: Passing (type, 1) or '1type' as a synonym of type is deprecated; in a future version of numpy, it will be understood as (type, (1,)) / '(1,)type'.\n",
      "  _np_qint8 = np.dtype([(\"qint8\", np.int8, 1)])\n",
      "/Users/mq20150564/software/anaconda2/envs/python37/lib/python3.7/site-packages/tensorboard/compat/tensorflow_stub/dtypes.py:542: FutureWarning: Passing (type, 1) or '1type' as a synonym of type is deprecated; in a future version of numpy, it will be understood as (type, (1,)) / '(1,)type'.\n",
      "  _np_quint8 = np.dtype([(\"quint8\", np.uint8, 1)])\n",
      "/Users/mq20150564/software/anaconda2/envs/python37/lib/python3.7/site-packages/tensorboard/compat/tensorflow_stub/dtypes.py:543: FutureWarning: Passing (type, 1) or '1type' as a synonym of type is deprecated; in a future version of numpy, it will be understood as (type, (1,)) / '(1,)type'.\n",
      "  _np_qint16 = np.dtype([(\"qint16\", np.int16, 1)])\n",
      "/Users/mq20150564/software/anaconda2/envs/python37/lib/python3.7/site-packages/tensorboard/compat/tensorflow_stub/dtypes.py:544: FutureWarning: Passing (type, 1) or '1type' as a synonym of type is deprecated; in a future version of numpy, it will be understood as (type, (1,)) / '(1,)type'.\n",
      "  _np_quint16 = np.dtype([(\"quint16\", np.uint16, 1)])\n",
      "/Users/mq20150564/software/anaconda2/envs/python37/lib/python3.7/site-packages/tensorboard/compat/tensorflow_stub/dtypes.py:545: FutureWarning: Passing (type, 1) or '1type' as a synonym of type is deprecated; in a future version of numpy, it will be understood as (type, (1,)) / '(1,)type'.\n",
      "  _np_qint32 = np.dtype([(\"qint32\", np.int32, 1)])\n",
      "/Users/mq20150564/software/anaconda2/envs/python37/lib/python3.7/site-packages/tensorboard/compat/tensorflow_stub/dtypes.py:550: FutureWarning: Passing (type, 1) or '1type' as a synonym of type is deprecated; in a future version of numpy, it will be understood as (type, (1,)) / '(1,)type'.\n",
      "  np_resource = np.dtype([(\"resource\", np.ubyte, 1)])\n"
     ]
    }
   ],
   "source": [
    "#As outlined above, there are a number of different models to define a NN. You can have pretty complicated joins \n",
    "#between inputs, hidden layers, and outputs. The most simple is a Sequential network, where you push data in one end, \n",
    "#and get an output at the other end.\n",
    "from keras.models import Sequential\n",
    "from keras.layers import Dense #NNs are made up of many \"layers\" (input, hidden layers, output), and there are \n",
    "                                    #many ways of joining those layers. A dense layer is the simplest: every neuron in\n",
    "                                    #every layer is joined to the previous and next layer of neurons.\n",
    "\n",
    "# Define 784-256-128-10 architecture using Keras\n",
    "#model architecture is somewhat arbitratrily defined here, but the values\n",
    "#that are used often depend on the dataset at hand -- lots of \"rules of thumb\" used to\n",
    "#define these numbers. There is no hard solution -- often it comes down to hard-earned\n",
    "#experience. Of course, the final output layer must be equal to the number of classifications\n",
    "#that you want to make, so that is set to 10 here.\n",
    "model = Sequential()\n",
    "#you can also add an input layer here that can do the flattening that we did above (not required here, though).\n",
    "\n",
    "#we need to tell the model to use a sigmoid activation function for the two hidden layers.\n",
    "model.add(Dense(256, input_shape=(784,), activation=\"sigmoid\"))\n",
    "model.add(Dense(128, activation=\"sigmoid\"))#here it will auto-default to the previously defined layer for the input_shape\n",
    "model.add(Dense(10, activation=\"softmax\"))\n",
    "#Final output layer has a different activation function called softmax. This outputs a probability that the input \n",
    "#belongs to a certain class. Sigmoid outputs are independant and are not constrained to sum to 1, thus not great for \n",
    "#final output. On the other hand, Softmax is often used as the activation for the last layer of a classification \n",
    "#network because the result could be interpreted as a probability distribution (they sum to one)."
   ]
  },
  {
   "cell_type": "markdown",
   "metadata": {},
   "source": [
    "Once the model has been defined we need to pick a loss function to assess its performance and run the gradient descent algorithm. There are also a number of tweaked optimiser algorithms available, however SGD works fine as a default. \n",
    "\n",
    "The optimiser also accepts a 'learning rate', a hyperparameter that controls how much to change the model in response to the estimated error each time the model weights are updated. Choosing the learning rate is challenging as a value too small may result in a long training process that could get stuck, whereas a value too large may result in learning a sub-optimal set of weights too fast or an unstable training process.\n",
    "\n",
    "At this point we also need to choose a batch size (how much data can we fit in memory?) and number of epochs to train for (how many times we push a training set through the network to train it)."
   ]
  },
  {
   "cell_type": "code",
   "execution_count": 10,
   "metadata": {},
   "outputs": [
    {
     "name": "stdout",
     "output_type": "stream",
     "text": [
      "WARNING:tensorflow:From /Users/mq20150564/software/anaconda2/envs/python37/lib/python3.7/site-packages/keras/backend/tensorflow_backend.py:422: The name tf.global_variables is deprecated. Please use tf.compat.v1.global_variables instead.\n",
      "\n",
      "Train on 20000 samples, validate on 5000 samples\n",
      "Epoch 1/100\n",
      "20000/20000 [==============================] - 3s 135us/step - loss: 2.2923 - accuracy: 0.1313 - val_loss: 2.2724 - val_accuracy: 0.1474\n",
      "Epoch 2/100\n",
      "20000/20000 [==============================] - 2s 112us/step - loss: 2.2479 - accuracy: 0.2783 - val_loss: 2.2321 - val_accuracy: 0.3348\n",
      "Epoch 3/100\n",
      "20000/20000 [==============================] - 2s 116us/step - loss: 2.2026 - accuracy: 0.3597 - val_loss: 2.1856 - val_accuracy: 0.3124\n",
      "Epoch 4/100\n",
      "20000/20000 [==============================] - 2s 110us/step - loss: 2.1466 - accuracy: 0.4491 - val_loss: 2.1287 - val_accuracy: 0.5588\n",
      "Epoch 5/100\n",
      "20000/20000 [==============================] - 2s 108us/step - loss: 2.0748 - accuracy: 0.5347 - val_loss: 2.0513 - val_accuracy: 0.4990\n",
      "Epoch 6/100\n",
      "20000/20000 [==============================] - 2s 109us/step - loss: 1.9813 - accuracy: 0.5730 - val_loss: 1.9533 - val_accuracy: 0.5684\n",
      "Epoch 7/100\n",
      "20000/20000 [==============================] - 2s 107us/step - loss: 1.8628 - accuracy: 0.6009 - val_loss: 1.8319 - val_accuracy: 0.6164\n",
      "Epoch 8/100\n",
      "20000/20000 [==============================] - 2s 112us/step - loss: 1.7238 - accuracy: 0.6367 - val_loss: 1.6990 - val_accuracy: 0.5546\n",
      "Epoch 9/100\n",
      "20000/20000 [==============================] - 2s 110us/step - loss: 1.5764 - accuracy: 0.6641 - val_loss: 1.5565 - val_accuracy: 0.6488\n",
      "Epoch 10/100\n",
      "20000/20000 [==============================] - 2s 113us/step - loss: 1.4331 - accuracy: 0.6981 - val_loss: 1.4270 - val_accuracy: 0.6472\n",
      "Epoch 11/100\n",
      "20000/20000 [==============================] - 2s 110us/step - loss: 1.3026 - accuracy: 0.7220 - val_loss: 1.3074 - val_accuracy: 0.6938\n",
      "Epoch 12/100\n",
      "20000/20000 [==============================] - 3s 136us/step - loss: 1.1880 - accuracy: 0.7404 - val_loss: 1.2044 - val_accuracy: 0.7112\n",
      "Epoch 13/100\n",
      "20000/20000 [==============================] - 3s 143us/step - loss: 1.0887 - accuracy: 0.7605 - val_loss: 1.1164 - val_accuracy: 0.7284\n",
      "Epoch 14/100\n",
      "20000/20000 [==============================] - 3s 162us/step - loss: 1.0039 - accuracy: 0.7757 - val_loss: 1.0396 - val_accuracy: 0.7532\n",
      "Epoch 15/100\n",
      "20000/20000 [==============================] - 4s 189us/step - loss: 0.9313 - accuracy: 0.7889 - val_loss: 0.9765 - val_accuracy: 0.7576\n",
      "Epoch 16/100\n",
      "20000/20000 [==============================] - 3s 150us/step - loss: 0.8694 - accuracy: 0.8006 - val_loss: 0.9205 - val_accuracy: 0.7658\n",
      "Epoch 17/100\n",
      "20000/20000 [==============================] - 3s 131us/step - loss: 0.8161 - accuracy: 0.8101 - val_loss: 0.8753 - val_accuracy: 0.7640\n",
      "Epoch 18/100\n",
      "20000/20000 [==============================] - 2s 120us/step - loss: 0.7701 - accuracy: 0.8159 - val_loss: 0.8297 - val_accuracy: 0.7836\n",
      "Epoch 19/100\n",
      "20000/20000 [==============================] - 2s 117us/step - loss: 0.7305 - accuracy: 0.8241 - val_loss: 0.7959 - val_accuracy: 0.7842\n",
      "Epoch 20/100\n",
      "20000/20000 [==============================] - 2s 114us/step - loss: 0.6957 - accuracy: 0.8286 - val_loss: 0.7635 - val_accuracy: 0.7926\n",
      "Epoch 21/100\n",
      "20000/20000 [==============================] - 2s 114us/step - loss: 0.6651 - accuracy: 0.8352 - val_loss: 0.7365 - val_accuracy: 0.7928\n",
      "Epoch 22/100\n",
      "20000/20000 [==============================] - 2s 112us/step - loss: 0.6381 - accuracy: 0.8412 - val_loss: 0.7147 - val_accuracy: 0.8010\n",
      "Epoch 23/100\n",
      "20000/20000 [==============================] - 2s 118us/step - loss: 0.6143 - accuracy: 0.8457 - val_loss: 0.6890 - val_accuracy: 0.8096\n",
      "Epoch 24/100\n",
      "20000/20000 [==============================] - 2s 116us/step - loss: 0.5931 - accuracy: 0.8493 - val_loss: 0.6713 - val_accuracy: 0.8130\n",
      "Epoch 25/100\n",
      "20000/20000 [==============================] - 2s 115us/step - loss: 0.5739 - accuracy: 0.8533 - val_loss: 0.6522 - val_accuracy: 0.8196\n",
      "Epoch 26/100\n",
      "20000/20000 [==============================] - 2s 114us/step - loss: 0.5569 - accuracy: 0.8569 - val_loss: 0.6360 - val_accuracy: 0.8196\n",
      "Epoch 27/100\n",
      "20000/20000 [==============================] - 2s 117us/step - loss: 0.5413 - accuracy: 0.8608 - val_loss: 0.6194 - val_accuracy: 0.8276\n",
      "Epoch 28/100\n",
      "20000/20000 [==============================] - 2s 109us/step - loss: 0.5268 - accuracy: 0.8640 - val_loss: 0.6079 - val_accuracy: 0.8288\n",
      "Epoch 29/100\n",
      "20000/20000 [==============================] - 2s 108us/step - loss: 0.5141 - accuracy: 0.8656 - val_loss: 0.5943 - val_accuracy: 0.8310\n",
      "Epoch 30/100\n",
      "20000/20000 [==============================] - 2s 106us/step - loss: 0.5019 - accuracy: 0.8688 - val_loss: 0.5824 - val_accuracy: 0.8362\n",
      "Epoch 31/100\n",
      "20000/20000 [==============================] - 2s 113us/step - loss: 0.4909 - accuracy: 0.8718 - val_loss: 0.5739 - val_accuracy: 0.8376\n",
      "Epoch 32/100\n",
      "20000/20000 [==============================] - 2s 118us/step - loss: 0.4809 - accuracy: 0.8737 - val_loss: 0.5620 - val_accuracy: 0.8414\n",
      "Epoch 33/100\n",
      "20000/20000 [==============================] - 3s 165us/step - loss: 0.4714 - accuracy: 0.8745 - val_loss: 0.5530 - val_accuracy: 0.8430\n",
      "Epoch 34/100\n",
      "20000/20000 [==============================] - 4s 179us/step - loss: 0.4626 - accuracy: 0.8766 - val_loss: 0.5447 - val_accuracy: 0.8442\n",
      "Epoch 35/100\n",
      "20000/20000 [==============================] - 3s 138us/step - loss: 0.4543 - accuracy: 0.8784 - val_loss: 0.5367 - val_accuracy: 0.8472\n",
      "Epoch 36/100\n",
      "20000/20000 [==============================] - 3s 154us/step - loss: 0.4468 - accuracy: 0.8808 - val_loss: 0.5297 - val_accuracy: 0.8490\n",
      "Epoch 37/100\n",
      "20000/20000 [==============================] - 3s 134us/step - loss: 0.4396 - accuracy: 0.8816 - val_loss: 0.5235 - val_accuracy: 0.8516\n",
      "Epoch 38/100\n",
      "20000/20000 [==============================] - 3s 137us/step - loss: 0.4330 - accuracy: 0.8830 - val_loss: 0.5162 - val_accuracy: 0.8528\n",
      "Epoch 39/100\n",
      "20000/20000 [==============================] - 2s 121us/step - loss: 0.4268 - accuracy: 0.8841 - val_loss: 0.5100 - val_accuracy: 0.8530\n",
      "Epoch 40/100\n",
      "20000/20000 [==============================] - 2s 109us/step - loss: 0.4209 - accuracy: 0.8851 - val_loss: 0.5040 - val_accuracy: 0.8550\n",
      "Epoch 41/100\n",
      "20000/20000 [==============================] - 2s 104us/step - loss: 0.4156 - accuracy: 0.8863 - val_loss: 0.4980 - val_accuracy: 0.8564\n",
      "Epoch 42/100\n",
      "20000/20000 [==============================] - 2s 104us/step - loss: 0.4103 - accuracy: 0.8878 - val_loss: 0.4938 - val_accuracy: 0.8588\n",
      "Epoch 43/100\n",
      "20000/20000 [==============================] - 2s 104us/step - loss: 0.4054 - accuracy: 0.8891 - val_loss: 0.4888 - val_accuracy: 0.8590\n",
      "Epoch 44/100\n",
      "20000/20000 [==============================] - 2s 103us/step - loss: 0.4007 - accuracy: 0.8902 - val_loss: 0.4836 - val_accuracy: 0.8604\n",
      "Epoch 45/100\n",
      "20000/20000 [==============================] - 2s 103us/step - loss: 0.3963 - accuracy: 0.8917 - val_loss: 0.4783 - val_accuracy: 0.8614\n",
      "Epoch 46/100\n",
      "20000/20000 [==============================] - 2s 106us/step - loss: 0.3922 - accuracy: 0.8927 - val_loss: 0.4749 - val_accuracy: 0.8644\n",
      "Epoch 47/100\n",
      "20000/20000 [==============================] - 2s 109us/step - loss: 0.3882 - accuracy: 0.8944 - val_loss: 0.4714 - val_accuracy: 0.8632\n",
      "Epoch 48/100\n",
      "20000/20000 [==============================] - 2s 110us/step - loss: 0.3844 - accuracy: 0.8945 - val_loss: 0.4685 - val_accuracy: 0.8644\n",
      "Epoch 49/100\n",
      "20000/20000 [==============================] - 2s 112us/step - loss: 0.3809 - accuracy: 0.8956 - val_loss: 0.4635 - val_accuracy: 0.8642\n",
      "Epoch 50/100\n",
      "20000/20000 [==============================] - 2s 112us/step - loss: 0.3774 - accuracy: 0.8960 - val_loss: 0.4598 - val_accuracy: 0.8676\n",
      "Epoch 51/100\n",
      "20000/20000 [==============================] - 2s 112us/step - loss: 0.3742 - accuracy: 0.8965 - val_loss: 0.4582 - val_accuracy: 0.8694\n",
      "Epoch 52/100\n",
      "20000/20000 [==============================] - 2s 111us/step - loss: 0.3708 - accuracy: 0.8974 - val_loss: 0.4548 - val_accuracy: 0.8686\n",
      "Epoch 53/100\n",
      "20000/20000 [==============================] - 2s 109us/step - loss: 0.3680 - accuracy: 0.8977 - val_loss: 0.4509 - val_accuracy: 0.8686\n"
     ]
    },
    {
     "name": "stdout",
     "output_type": "stream",
     "text": [
      "Epoch 54/100\n",
      "20000/20000 [==============================] - 2s 110us/step - loss: 0.3651 - accuracy: 0.8984 - val_loss: 0.4490 - val_accuracy: 0.8672\n",
      "Epoch 55/100\n",
      "20000/20000 [==============================] - 2s 110us/step - loss: 0.3624 - accuracy: 0.8999 - val_loss: 0.4458 - val_accuracy: 0.8704\n",
      "Epoch 56/100\n",
      "20000/20000 [==============================] - 2s 110us/step - loss: 0.3596 - accuracy: 0.9006 - val_loss: 0.4428 - val_accuracy: 0.8710\n",
      "Epoch 57/100\n",
      "20000/20000 [==============================] - 2s 109us/step - loss: 0.3570 - accuracy: 0.9010 - val_loss: 0.4399 - val_accuracy: 0.8702\n",
      "Epoch 58/100\n",
      "20000/20000 [==============================] - 2s 108us/step - loss: 0.3545 - accuracy: 0.9017 - val_loss: 0.4382 - val_accuracy: 0.8718\n",
      "Epoch 59/100\n",
      "20000/20000 [==============================] - 2s 106us/step - loss: 0.3522 - accuracy: 0.9027 - val_loss: 0.4353 - val_accuracy: 0.8728\n",
      "Epoch 60/100\n",
      "20000/20000 [==============================] - 2s 107us/step - loss: 0.3498 - accuracy: 0.9024 - val_loss: 0.4339 - val_accuracy: 0.8724\n",
      "Epoch 61/100\n",
      "20000/20000 [==============================] - 2s 107us/step - loss: 0.3475 - accuracy: 0.9033 - val_loss: 0.4304 - val_accuracy: 0.8720\n",
      "Epoch 62/100\n",
      "20000/20000 [==============================] - 2s 106us/step - loss: 0.3453 - accuracy: 0.9042 - val_loss: 0.4287 - val_accuracy: 0.8736\n",
      "Epoch 63/100\n",
      "20000/20000 [==============================] - 2s 107us/step - loss: 0.3432 - accuracy: 0.9049 - val_loss: 0.4271 - val_accuracy: 0.8736\n",
      "Epoch 64/100\n",
      "20000/20000 [==============================] - 2s 115us/step - loss: 0.3412 - accuracy: 0.9043 - val_loss: 0.4257 - val_accuracy: 0.8744\n",
      "Epoch 65/100\n",
      "20000/20000 [==============================] - 3s 127us/step - loss: 0.3392 - accuracy: 0.9055 - val_loss: 0.4231 - val_accuracy: 0.8730\n",
      "Epoch 66/100\n",
      "20000/20000 [==============================] - 3s 135us/step - loss: 0.3372 - accuracy: 0.9058 - val_loss: 0.4204 - val_accuracy: 0.8764\n",
      "Epoch 67/100\n",
      "20000/20000 [==============================] - 3s 135us/step - loss: 0.3354 - accuracy: 0.9061 - val_loss: 0.4188 - val_accuracy: 0.8766\n",
      "Epoch 68/100\n",
      "20000/20000 [==============================] - 3s 133us/step - loss: 0.3334 - accuracy: 0.9071 - val_loss: 0.4175 - val_accuracy: 0.8780\n",
      "Epoch 69/100\n",
      "20000/20000 [==============================] - 2s 124us/step - loss: 0.3317 - accuracy: 0.9071 - val_loss: 0.4149 - val_accuracy: 0.8770\n",
      "Epoch 70/100\n",
      "20000/20000 [==============================] - 2s 122us/step - loss: 0.3299 - accuracy: 0.9075 - val_loss: 0.4132 - val_accuracy: 0.8770\n",
      "Epoch 71/100\n",
      "20000/20000 [==============================] - 2s 118us/step - loss: 0.3282 - accuracy: 0.9081 - val_loss: 0.4118 - val_accuracy: 0.8770\n",
      "Epoch 72/100\n",
      "20000/20000 [==============================] - 2s 120us/step - loss: 0.3266 - accuracy: 0.9082 - val_loss: 0.4106 - val_accuracy: 0.8776\n",
      "Epoch 73/100\n",
      "20000/20000 [==============================] - 2s 119us/step - loss: 0.3249 - accuracy: 0.9089 - val_loss: 0.4077 - val_accuracy: 0.8788\n",
      "Epoch 74/100\n",
      "20000/20000 [==============================] - 2s 118us/step - loss: 0.3233 - accuracy: 0.9098 - val_loss: 0.4095 - val_accuracy: 0.8790\n",
      "Epoch 75/100\n",
      "20000/20000 [==============================] - 2s 119us/step - loss: 0.3217 - accuracy: 0.9100 - val_loss: 0.4065 - val_accuracy: 0.8788\n",
      "Epoch 76/100\n",
      "20000/20000 [==============================] - 2s 115us/step - loss: 0.3203 - accuracy: 0.9102 - val_loss: 0.4046 - val_accuracy: 0.8796\n",
      "Epoch 77/100\n",
      "20000/20000 [==============================] - 2s 109us/step - loss: 0.3188 - accuracy: 0.9108 - val_loss: 0.4023 - val_accuracy: 0.8812\n",
      "Epoch 78/100\n",
      "20000/20000 [==============================] - 2s 111us/step - loss: 0.3173 - accuracy: 0.9111 - val_loss: 0.4006 - val_accuracy: 0.8828\n",
      "Epoch 79/100\n",
      "20000/20000 [==============================] - 2s 107us/step - loss: 0.3159 - accuracy: 0.9115 - val_loss: 0.3991 - val_accuracy: 0.8820\n",
      "Epoch 80/100\n",
      "20000/20000 [==============================] - 2s 109us/step - loss: 0.3145 - accuracy: 0.9119 - val_loss: 0.3971 - val_accuracy: 0.8812\n",
      "Epoch 81/100\n",
      "20000/20000 [==============================] - 2s 110us/step - loss: 0.3129 - accuracy: 0.9124 - val_loss: 0.3967 - val_accuracy: 0.8838\n",
      "Epoch 82/100\n",
      "20000/20000 [==============================] - 2s 114us/step - loss: 0.3116 - accuracy: 0.9122 - val_loss: 0.3950 - val_accuracy: 0.8842\n",
      "Epoch 83/100\n",
      "20000/20000 [==============================] - 2s 120us/step - loss: 0.3104 - accuracy: 0.9134 - val_loss: 0.3940 - val_accuracy: 0.8842\n",
      "Epoch 84/100\n",
      "20000/20000 [==============================] - 2s 119us/step - loss: 0.3091 - accuracy: 0.9130 - val_loss: 0.3923 - val_accuracy: 0.8834\n",
      "Epoch 85/100\n",
      "20000/20000 [==============================] - 3s 131us/step - loss: 0.3076 - accuracy: 0.9137 - val_loss: 0.3909 - val_accuracy: 0.8838\n",
      "Epoch 86/100\n",
      "20000/20000 [==============================] - 2s 122us/step - loss: 0.3065 - accuracy: 0.9135 - val_loss: 0.3899 - val_accuracy: 0.8836\n",
      "Epoch 87/100\n",
      "20000/20000 [==============================] - 2s 123us/step - loss: 0.3053 - accuracy: 0.9135 - val_loss: 0.3882 - val_accuracy: 0.8846\n",
      "Epoch 88/100\n",
      "20000/20000 [==============================] - 2s 123us/step - loss: 0.3040 - accuracy: 0.9147 - val_loss: 0.3879 - val_accuracy: 0.8848\n",
      "Epoch 89/100\n",
      "20000/20000 [==============================] - 2s 117us/step - loss: 0.3027 - accuracy: 0.9144 - val_loss: 0.3879 - val_accuracy: 0.8838\n",
      "Epoch 90/100\n",
      "20000/20000 [==============================] - 2s 110us/step - loss: 0.3017 - accuracy: 0.9158 - val_loss: 0.3870 - val_accuracy: 0.8834\n",
      "Epoch 91/100\n",
      "20000/20000 [==============================] - 2s 107us/step - loss: 0.3004 - accuracy: 0.9150 - val_loss: 0.3842 - val_accuracy: 0.8860\n",
      "Epoch 92/100\n",
      "20000/20000 [==============================] - 2s 109us/step - loss: 0.2992 - accuracy: 0.9160 - val_loss: 0.3839 - val_accuracy: 0.8856\n",
      "Epoch 93/100\n",
      "20000/20000 [==============================] - 2s 110us/step - loss: 0.2981 - accuracy: 0.9155 - val_loss: 0.3822 - val_accuracy: 0.8866\n",
      "Epoch 94/100\n",
      "20000/20000 [==============================] - 2s 114us/step - loss: 0.2970 - accuracy: 0.9164 - val_loss: 0.3806 - val_accuracy: 0.8868\n",
      "Epoch 95/100\n",
      "20000/20000 [==============================] - 2s 110us/step - loss: 0.2958 - accuracy: 0.9161 - val_loss: 0.3802 - val_accuracy: 0.8874\n",
      "Epoch 96/100\n",
      "20000/20000 [==============================] - 2s 111us/step - loss: 0.2947 - accuracy: 0.9168 - val_loss: 0.3785 - val_accuracy: 0.8880\n",
      "Epoch 97/100\n",
      "20000/20000 [==============================] - 2s 113us/step - loss: 0.2937 - accuracy: 0.9168 - val_loss: 0.3774 - val_accuracy: 0.8882\n",
      "Epoch 98/100\n",
      "20000/20000 [==============================] - 2s 109us/step - loss: 0.2927 - accuracy: 0.9179 - val_loss: 0.3780 - val_accuracy: 0.8874\n",
      "Epoch 99/100\n",
      "20000/20000 [==============================] - 2s 107us/step - loss: 0.2916 - accuracy: 0.9177 - val_loss: 0.3759 - val_accuracy: 0.8900\n",
      "Epoch 100/100\n",
      "20000/20000 [==============================] - 2s 106us/step - loss: 0.2907 - accuracy: 0.9181 - val_loss: 0.3749 - val_accuracy: 0.8880\n"
     ]
    }
   ],
   "source": [
    "#NOTE WELL: ON COLAB, THE KERAS OPTIMIZERS HAVE MOVED INTO TENSORFLOW.\n",
    "#TO IMPORT ON COLAB, NEED TO UNCOMMENT BELOW AND REMOVE LAPTOP VERSION:\n",
    "#from tensorflow.keras.optimizers import SGD #stochastic gradient descent when on colab\n",
    "from keras.optimizers import SGD #Stochastic Gradient Descent\n",
    "\n",
    "# Typical learning rate for SGD\n",
    "learnRate = 0.01#tells the code how far to randomly jump when updating weights in order to find the next downhill \n",
    "                #position for gradient descent. For more complicated problems, can make it smaller. There is a \n",
    "                #trade-off between speed and accuracy. Smaller values give more accurate results, but are slower.\n",
    "opt = SGD(learnRate)\n",
    "\n",
    "#can also optionally feed it \"momentum\" (value between 0 and 1), which controls how quickly it accelerates in \n",
    "#downhill directions, and helps to control oscillatory behaviour that can hinder the process.\n",
    "\n",
    "\n",
    "#Now compile the model\n",
    "model.compile(loss=\"categorical_crossentropy\", optimizer=opt,\n",
    "              metrics=[\"accuracy\"])\n",
    "#Loss function is like the chi^2 that we used before. Lets the network know how well its doing in terms of identifying\n",
    "#the correct labels for the training set.\n",
    "\n",
    "#Also want to measure the performance. Here use accuracy. \n",
    "#Recall metrics in week 9 -- accuracy gives the number of correct predictions given known classifications.\n",
    "\n",
    "# Then run the stochastic gradient descent algorithm to train the model using the training data. Also input\n",
    "#the vaidation (test) data. Recall trainX are the images (flattened), trainY are the one-hot binarized labels.\n",
    "H = model.fit(trainX, trainY, validation_data=(testX, testY),\n",
    "              epochs=100, batch_size=64)\n",
    "\n",
    "#Epoch sets the number of times the training is iterated. At each iteration, improve the fit by adjusting\n",
    "#the weights, measure how well that did using the loss function, then use gradient descent to tell\n",
    "#the weights to change in a certain direction. \n",
    "\n",
    "#Batch size tells the code how many of the training images should be sent through the trainer for each gradient\n",
    "#update within an epoch. 64 in this case, but depends on how much ram you have.\n"
   ]
  },
  {
   "cell_type": "markdown",
   "metadata": {},
   "source": [
    "That's it! Training has finished and our model is ready to make prediction about the testing data. Let's just make a prediction about one image to illustrate."
   ]
  },
  {
   "cell_type": "code",
   "execution_count": 11,
   "metadata": {},
   "outputs": [
    {
     "name": "stdout",
     "output_type": "stream",
     "text": [
      "Model expects this shape data: (1, 784)\n"
     ]
    },
    {
     "data": {
      "text/plain": [
       "<matplotlib.image.AxesImage at 0x1a4f7f3dd0>"
      ]
     },
     "execution_count": 11,
     "metadata": {},
     "output_type": "execute_result"
    },
    {
     "data": {
      "image/png": "[encoded data removed]",
      "text/plain": [
       "<Figure size 432x288 with 1 Axes>"
      ]
     },
     "metadata": {
      "needs_background": "light"
     },
     "output_type": "display_data"
    }
   ],
   "source": [
    "# Select a single image - a batch of 1\n",
    "testX_1 = testX[0].reshape(1, 784)\n",
    "print(\"Model expects this shape data:\",testX_1.shape)\n",
    "\n",
    "# Plot the image\n",
    "plt.imshow(testX_1[0].reshape(28, 28))"
   ]
  },
  {
   "cell_type": "code",
   "execution_count": 12,
   "metadata": {},
   "outputs": [
    {
     "name": "stdout",
     "output_type": "stream",
     "text": [
      "\n",
      "Predictions are a vector of probabilities:\n",
      " [[2.5648423e-04 2.3251216e-06 1.8067651e-04 2.5522979e-03 4.2780503e-06\n",
      "  1.3061261e-04 2.1550832e-08 9.9449122e-01 2.1293939e-05 2.3608217e-03]]\n"
     ]
    }
   ],
   "source": [
    "# Make a prediction for the selected image using our trained model.\n",
    "predictions = model.predict(testX_1, batch_size=1)\n",
    "print(\"\\nPredictions are a vector of probabilities:\\n\", predictions)"
   ]
  },
  {
   "cell_type": "code",
   "execution_count": 13,
   "metadata": {},
   "outputs": [
    {
     "name": "stdout",
     "output_type": "stream",
     "text": [
      "\n",
      "Predicted digit is 7\n"
     ]
    }
   ],
   "source": [
    "# Select index of the highest probability\n",
    "indx = np.argmax(predictions)\n",
    "print(\"\\nPredicted digit is\", lb.classes_[indx])"
   ]
  },
  {
   "cell_type": "markdown",
   "metadata": {},
   "source": [
    "Scikit learn comes with a handy function to report useful classification statistics:"
   ]
  },
  {
   "cell_type": "code",
   "execution_count": 14,
   "metadata": {},
   "outputs": [
    {
     "name": "stdout",
     "output_type": "stream",
     "text": [
      "              precision    recall  f1-score   support\n",
      "\n",
      "           0       0.91      0.98      0.94       460\n",
      "           1       0.93      0.98      0.95       571\n",
      "           2       0.90      0.87      0.88       530\n",
      "           3       0.87      0.86      0.87       500\n",
      "           4       0.88      0.89      0.89       500\n",
      "           5       0.83      0.84      0.83       456\n",
      "           6       0.91      0.89      0.90       462\n",
      "           7       0.91      0.86      0.89       512\n",
      "           8       0.87      0.83      0.85       489\n",
      "           9       0.85      0.87      0.86       520\n",
      "\n",
      "    accuracy                           0.89      5000\n",
      "   macro avg       0.89      0.89      0.89      5000\n",
      "weighted avg       0.89      0.89      0.89      5000\n",
      "\n"
     ]
    }
   ],
   "source": [
    "from sklearn.metrics import classification_report\n",
    "\n",
    "# Make predictions on all the 5000 images in the test data\n",
    "predictions = model.predict(testX, batch_size=128)\n",
    "\n",
    "# Print a formatted report\n",
    "print(classification_report(testY.argmax(axis=1), #get the ground-truth labels -- these are the one-hot encoded labels, \n",
    "                                                  #so must find the index set to 1\n",
    "                            predictions.argmax(axis=1), #get the predictions from the NN trsained above\n",
    "                            target_names=[str(x) for x in lb.classes_]))#this decodes the classes, which prints the \n",
    "                                                                        #correct labels\n",
    "#precision = tp/(tp+fp); ability to not mis-label a positive that is actually a negative\n",
    "\n",
    "#recall = tp/(tp+fn): ability of classifier to correctly label all positive samples. \n",
    "#I.e., how many true positives do we correctly recall?\n",
    "\n",
    "#f1 score is a weighted mean of the two\n",
    "\n",
    "#support is the number of predicted in that label -- for perfecton, we'd expect 500 for each label"
   ]
  },
  {
   "cell_type": "markdown",
   "metadata": {},
   "source": [
    "We achieve an average precision of 89 %, which is not bad compared to our random chance of 1/10.\n",
    "\n",
    "Let's go back and plot some key curves for the training process - loss and accuracy. These were stored in our history object."
   ]
  },
  {
   "cell_type": "code",
   "execution_count": 15,
   "metadata": {},
   "outputs": [
    {
     "data": {
      "image/png": "[encoded data removed]",
      "text/plain": [
       "<Figure size 864x576 with 1 Axes>"
      ]
     },
     "metadata": {
      "needs_background": "light"
     },
     "output_type": "display_data"
    }
   ],
   "source": [
    "plt.figure(figsize=(12,8))\n",
    "plt.plot(np.arange(0, 100), H.history[\"loss\"], label=\"train_loss\")\n",
    "plt.plot(np.arange(0, 100), H.history[\"val_loss\"], label=\"val_loss\")\n",
    "#plt.plot(np.arange(0, 100), H.history[\"acc\"], label=\"train_acc\")\n",
    "plt.plot(np.arange(0, 100), H.history[\"accuracy\"], label=\"train_acc\")\n",
    "#plt.plot(np.arange(0, 100), H.history[\"val_acc\"], label=\"val_acc\")\n",
    "plt.plot(np.arange(0, 100), H.history[\"val_accuracy\"], label=\"val_acc\")\n",
    "plt.title(\"Training Loss and Accuracy\")\n",
    "plt.xlabel(\"Epoch #\")\n",
    "plt.ylabel(\"Loss/Accuracy\")\n",
    "plt.legend()\n",
    "plt.show()"
   ]
  },
  {
   "cell_type": "code",
   "execution_count": 16,
   "metadata": {},
   "outputs": [
    {
     "data": {
      "text/plain": [
       "(5000, 10)"
      ]
     },
     "execution_count": 16,
     "metadata": {},
     "output_type": "execute_result"
    }
   ],
   "source": [
    "testY.shape"
   ]
  },
  {
   "cell_type": "code",
   "execution_count": 17,
   "metadata": {},
   "outputs": [
    {
     "data": {
      "text/plain": [
       "(5000, 10)"
      ]
     },
     "execution_count": 17,
     "metadata": {},
     "output_type": "execute_result"
    }
   ],
   "source": [
    "predictions.shape"
   ]
  },
  {
   "cell_type": "code",
   "execution_count": null,
   "metadata": {},
   "outputs": [],
   "source": []
  }
 ],
 "metadata": {
  "kernelspec": {
   "display_name": "Python 3 (ipykernel)",
   "language": "python",
   "name": "python3"
  },
  "language_info": {
   "codemirror_mode": {
    "name": "ipython",
    "version": 3
   },
   "file_extension": ".py",
   "mimetype": "text/x-python",
   "name": "python",
   "nbconvert_exporter": "python",
   "pygments_lexer": "ipython3",
   "version": "3.9.7"
  }
 },
 "nbformat": 4,
 "nbformat_minor": 2
}
