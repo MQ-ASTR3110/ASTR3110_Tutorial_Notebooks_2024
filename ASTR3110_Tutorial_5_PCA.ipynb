{
 "cells": [
  {
   "cell_type": "markdown",
   "metadata": {},
   "source": [
    "# ASTR3110 Tutorial 5: Principal Component Analysis\n",
    "\n",
    "Tutorial 5 of the *'Data Science Techniques in Astrophysics'* course at Macquarie University.\n",
    "\n",
    "## Learning outcomes from this tutorial\n",
    "\n",
    " * Understand what is meant by dimensionality reduction.\n",
    " * Understand what principal axes are and how they relate to variance.\n",
    " * Use SciKit Learn to identify principal axes on a simple 2D dataset.\n",
    " * Understand how to select the axes containing most information.\n",
    " * Use PCA to show how an image-based dataset decomposes into clusters in 2D.\n",
    " * Use PCA to filter noise from images."
   ]
  },
  {
   "cell_type": "markdown",
   "metadata": {},
   "source": [
    "## Setup\n",
    "\n",
    "This week, we won't need to access any data on disk, so simply start a new *Python 3* notebook on Google Colab. The tutorial content is based on a section of the [Python Data Science Handbook](http://shop.oreilly.com/product/0636920034919.do) by Jake VanderPlas (you can access this very handy book if you are on the MQ VPN, and by signing in with your MQ email). Additional content is available [on GitHub](https://github.com/jakevdp/PythonDataScienceHandbook)."
   ]
  },
  {
   "cell_type": "code",
   "execution_count": 87,
   "metadata": {},
   "outputs": [],
   "source": [
    "# Import necessary modules and set plots to appear inline\n",
    "import numpy as np\n",
    "from matplotlib import pyplot as plt\n",
    "import seaborn as sns\n",
    "%matplotlib inline"
   ]
  },
  {
   "cell_type": "markdown",
   "metadata": {},
   "source": [
    "## Introduction to Principal Component Analysis\n",
    "\n",
    "Principal Component Analysis (PCA) is a method of reducing the *dimensionality* of multi-dimensional data. We start by identifying the axes along which information is maximised (called the *principal axes*) and can then choose to collapse one or more of the smaller (i.e., least important) of these axes by projecting the data along this axis. We can illustrate this on an artificially generated 2D dataset."
   ]
  },
  {
   "cell_type": "code",
   "execution_count": null,
   "metadata": {},
   "outputs": [],
   "source": []
  },
  {
   "cell_type": "markdown",
   "metadata": {},
   "source": [
    "Now plot the data on a scatter plot to get a feel for it."
   ]
  },
  {
   "cell_type": "code",
   "execution_count": null,
   "metadata": {},
   "outputs": [],
   "source": []
  },
  {
   "cell_type": "markdown",
   "metadata": {},
   "source": [
    "It is clear from this plot that the most significant principal axis is along the line of best correlation and the next most significant axes is at 90-degrees to that. We can determine the vectors of these axes by using the PCA implementation in *SciKit Learn*. "
   ]
  },
  {
   "cell_type": "code",
   "execution_count": null,
   "metadata": {},
   "outputs": [],
   "source": []
  },
  {
   "cell_type": "markdown",
   "metadata": {},
   "source": [
    "Like the MCMC fitter we encountered last week, the results are stored inside the ```myPCA``` object. For a detailed explanation access the help by executing ```myPCA??```. The important variables are ```myPCA.mean_```, ```myPCA.components_``` and ```myPCA.explained_variance_```."
   ]
  },
  {
   "cell_type": "code",
   "execution_count": null,
   "metadata": {},
   "outputs": [],
   "source": []
  },
  {
   "cell_type": "code",
   "execution_count": null,
   "metadata": {},
   "outputs": [],
   "source": []
  },
  {
   "cell_type": "code",
   "execution_count": null,
   "metadata": {},
   "outputs": [],
   "source": []
  },
  {
   "cell_type": "code",
   "execution_count": null,
   "metadata": {},
   "outputs": [],
   "source": []
  },
  {
   "cell_type": "markdown",
   "metadata": {},
   "source": [
    "Now plot the vectors over the data:"
   ]
  },
  {
   "cell_type": "code",
   "execution_count": null,
   "metadata": {},
   "outputs": [],
   "source": [
    "# First define a short function to plot an arrow\n",
    "# I'll simply explain this code to avoid typing it out.\n",
    "# Basically, it's a way to overlay arrows on a data plot.\n",
    "def draw_vector(startCoord, endCoord, ax=None):\n",
    "    \"\"\"Function to draw a vector on a plot.\"\"\"\n",
    "\n",
    "    # By default, set the axis to the current one\n",
    "    if ax is None:\n",
    "        ax = plt.gca()#gca = get current axis. This sets the axis to the axis set by plt.scatter below.\n",
    "\n",
    "    # Set the arrow properties as a dictionary\n",
    "    arrowprops = dict(arrowstyle='->', linewidth=2, color='r')\n",
    "\n",
    "    # Annotate the plot with a blank label and an arrow\n",
    "    ax.annotate('', endCoord, startCoord, arrowprops=arrowprops)"
   ]
  },
  {
   "cell_type": "code",
   "execution_count": 1,
   "metadata": {},
   "outputs": [],
   "source": [
    "# Plot the data\n"
   ]
  },
  {
   "cell_type": "code",
   "execution_count": 2,
   "metadata": {},
   "outputs": [],
   "source": [
    "#zip explanation\n"
   ]
  },
  {
   "cell_type": "markdown",
   "metadata": {},
   "source": [
    "Note that your data and axis directions may be different to the above plot. SciKit Learn has a function to transform the data onto the orthogonal principal axes. Do the transformation and plot:"
   ]
  },
  {
   "cell_type": "code",
   "execution_count": 3,
   "metadata": {},
   "outputs": [],
   "source": [
    "# Transform the data onto the PCA axes\n"
   ]
  },
  {
   "cell_type": "markdown",
   "metadata": {},
   "source": [
    "This transformation from data axes to principal axes is an *affine transformation*, which basically means it is composed of a translation, rotation, and uniform scaling."
   ]
  },
  {
   "cell_type": "markdown",
   "metadata": {},
   "source": [
    "### PCA as dimensionality reduction\n",
    "\n",
    "Using PCA for dimensionality reduction involves zeroing out one or more of the smallest principal components, resulting in a lower-dimensional projection of the data that preserves the maximal data variance.\n",
    "\n",
    "Try using PCA for dimensionality reduction by collapsing the least-useful axis."
   ]
  },
  {
   "cell_type": "code",
   "execution_count": 4,
   "metadata": {},
   "outputs": [],
   "source": [
    "# Make a new PCA object with only one dimension\n"
   ]
  },
  {
   "cell_type": "markdown",
   "metadata": {},
   "source": [
    "We can transform this data back to understand what the effect of reducing it to a single dimension has been:"
   ]
  },
  {
   "cell_type": "code",
   "execution_count": 5,
   "metadata": {},
   "outputs": [],
   "source": [
    "# Transform the data back\n"
   ]
  },
  {
   "cell_type": "markdown",
   "metadata": {},
   "source": [
    "You can see that the information along the least-important axis has been removed. The fraction of variance that is cut out (proportional to the spread of points about the line formed in this figure) is roughly a measure of how much \"information\" is discarded in this reduction of dimensionality.\n",
    "\n",
    "This reduced-dimension dataset is \"good enough\" to encode the most important relationships between the points: despite reducing the dimension of the data by 50%, the overall relationship between the data points are mostly preserved."
   ]
  },
  {
   "cell_type": "markdown",
   "metadata": {},
   "source": [
    "## PCA for Visualisation\n",
    "\n",
    "Here we use a simple set of images as a toy example: small images of hand-written digits from the MNIST dataset (a very commonly used image dataset in the machine-learning world and the simplest 'hello world' example for many ML algorithms; MNIST = Modified National Institute of Standards and Technology database). \n",
    "\n",
    "SciKit Learn has access to this dataset built-in:"
   ]
  },
  {
   "cell_type": "code",
   "execution_count": 6,
   "metadata": {},
   "outputs": [],
   "source": [
    "# Load the digits dataset\n"
   ]
  },
  {
   "cell_type": "markdown",
   "metadata": {},
   "source": [
    "There are 1797 elements in the dataset, each of length 64.These are 8x8 pixel images that have been flattened."
   ]
  },
  {
   "cell_type": "code",
   "execution_count": 7,
   "metadata": {},
   "outputs": [],
   "source": [
    "# Access a single member of the dataset\n"
   ]
  },
  {
   "cell_type": "code",
   "execution_count": 8,
   "metadata": {},
   "outputs": [],
   "source": [
    "# Reshape the 1D array back to a 2D (8x8) image and plot\n"
   ]
  },
  {
   "cell_type": "code",
   "execution_count": 9,
   "metadata": {},
   "outputs": [],
   "source": [
    "#show digits.target"
   ]
  },
  {
   "cell_type": "markdown",
   "metadata": {},
   "source": [
    "The data consists of 8×8 pixel images, meaning that they are 64-dimensional. To gain some intuition into the relationships between these points, we can use PCA to project them to a more manageable number of dimensions, say two:"
   ]
  },
  {
   "cell_type": "code",
   "execution_count": 10,
   "metadata": {},
   "outputs": [],
   "source": [
    "# Project from 64 to 2 dimensions\n"
   ]
  },
  {
   "cell_type": "markdown",
   "metadata": {},
   "source": [
    "We can now plot the first two principal components of each point to learn about the data:"
   ]
  },
  {
   "cell_type": "code",
   "execution_count": null,
   "metadata": {},
   "outputs": [],
   "source": [
    "# We can colorise the data using the ground-truth labels\n",
    "# that are also encoded in digits.target\n",
    "\n",
    "plt.scatter(projected[:, 0], projected[:, 1],\n",
    "            c=digits.target,        # <- colour by ground truth label\n",
    "            edgecolor='none', \n",
    "            alpha=0.5,\n",
    "            cmap=plt.cm.get_cmap('nipy_spectral', 10))#jet is quantised to have 10 colours. One for each of our labels 0-9\n",
    "\n",
    "# Add labels\n",
    "plt.xlabel('Projected Component 1')\n",
    "plt.ylabel('Projected Component 2')\n",
    "plt.colorbar()"
   ]
  },
  {
   "cell_type": "code",
   "execution_count": null,
   "metadata": {},
   "outputs": [],
   "source": [
    "#plotting a single tartget digit, we can see that in PCA-space they \n",
    "#often occupy relatively distinct regions.\n",
    "target=2\n",
    "plt.scatter(projected[digits.target == 2, 0], projected[digits.target == 2, 1],\n",
    "            edgecolor='none', \n",
    "            alpha=0.5,\n",
    "            fc='k')\n",
    "\n"
   ]
  },
  {
   "cell_type": "code",
   "execution_count": null,
   "metadata": {},
   "outputs": [],
   "source": []
  },
  {
   "cell_type": "markdown",
   "metadata": {},
   "source": [
    "You can see here that images containing the same hand-written digits cluster in different regions of the projected 2D space. The full data for each digit is a 64-dimensional point cloud, and the points in the plot are the projection of each data point along the 2 directions with the largest variance. Essentially, we have found the optimal stretch and rotation in 64-dimensional space that allows us to see the layout of the digits in two dimensions, and have done this in an unsupervised manner.\n",
    "\n",
    "You can imagine this being useful in a real world situation where you don't have the \"labels\". You can use PCA to to identify types of objects that lie in semi-distinct parts of a multi-dimensional PCA space (where the number of PCA dimensions is reduced compared with the entire original dataset). This is very useful for object classification."
   ]
  },
  {
   "cell_type": "markdown",
   "metadata": {},
   "source": [
    "### What do the components mean?\n",
    "\n",
    "The PCA components can be thought of as *basis functions* - building blocks, the cumulative combination of which make up the whole picture. PCA gives the ability to order these in importance and select only the ones containing information on the *signal* in the data. See [here](https://github.com/jakevdp/PythonDataScienceHandbook/blob/master/notebooks/05.09-Principal-Component-Analysis.ipynb) for a more full explanation."
   ]
  },
  {
   "cell_type": "markdown",
   "metadata": {},
   "source": [
    "### Choosing the number of components\n",
    "\n",
    "A vital part of using PCA in practice is the ability to estimate how many components are needed to describe the data.\n",
    "This can be determined by looking at the cumulative *explained variance ratio* as a function of the number of components. This is the ratio of the variance explained by the currently accepted components to the total variance."
   ]
  },
  {
   "cell_type": "code",
   "execution_count": 15,
   "metadata": {},
   "outputs": [],
   "source": [
    "# Find the PCA components and do not restrict the\n",
    "# number of components found (fully describe the data)\n"
   ]
  },
  {
   "cell_type": "markdown",
   "metadata": {},
   "source": [
    "This curve quantifies how much of the total, 64-dimensional variance is contained within the first $N$ components.\n",
    "For example, we see that with the digits the first 10 components contain approximately 75% of the variance, while you need around 50 components to describe close to 100% of the variance.\n",
    "\n",
    "A good selection here might be choosing to fit 20 components to retain 90% of the information. Note that that last 10% may be dominated by noise."
   ]
  },
  {
   "cell_type": "markdown",
   "metadata": {},
   "source": [
    "## PCA as Noise Filtering\n",
    "\n",
    "PCA can also be used as a filtering approach for noisy data.\n",
    "The idea is this: any components with variance much larger than the effect of the noise should be relatively unaffected by the noise.\n",
    "So if you reconstruct the data using just the largest subset of principal components, you should be preferentially keeping the signal and throwing out the noise.\n",
    "\n",
    "Let's see how this looks with the digits data. First we will plot several of the input noise-free data:"
   ]
  },
  {
   "cell_type": "code",
   "execution_count": 70,
   "metadata": {},
   "outputs": [
    {
     "data": {
      "image/png": "[encoded data removed]",
      "text/plain": [
       "<Figure size 720x288 with 40 Axes>"
      ]
     },
     "metadata": {},
     "output_type": "display_data"
    }
   ],
   "source": [
    "# Define a function to plot the images\n",
    "def plot_digits(data, nRows=4):\n",
    "    \"\"\"Plot rows of images from the MNIST digits dataset.\"\"\"\n",
    "    \n",
    "    \n",
    "    # Setup the figure\n",
    "    fig = plt.figure(figsize=(10, nRows))\n",
    "    axes = fig.subplots(nRows, 10, \n",
    "                        subplot_kw={'xticks':[], 'yticks':[]},\n",
    "                        gridspec_kw=dict(hspace=0.1, wspace=0.1))\n",
    "    \n",
    "    # Loop through the axes, plotting the images\n",
    "    for i, ax in enumerate(axes.flat):\n",
    "        ax.imshow(data[i].reshape(8, 8),\n",
    "                  cmap='gray_r', interpolation='nearest',\n",
    "                  clim=(0, 16))\n",
    "\n",
    "# Call the plotting function to plot the 1st 4 rows\n",
    "plot_digits(digits.data, 4)"
   ]
  },
  {
   "cell_type": "markdown",
   "metadata": {},
   "source": [
    "Now we can add some noise to the data:"
   ]
  },
  {
   "cell_type": "code",
   "execution_count": 12,
   "metadata": {},
   "outputs": [],
   "source": [
    "# Now add some random noise\n"
   ]
  },
  {
   "cell_type": "markdown",
   "metadata": {},
   "source": [
    "A human observer can still make out which digits are in the images. Now see how PCA can identify the axes with information content and then filter on these to remove noise."
   ]
  },
  {
   "cell_type": "code",
   "execution_count": null,
   "metadata": {},
   "outputs": [],
   "source": []
  },
  {
   "cell_type": "markdown",
   "metadata": {},
   "source": [
    "Here 50% of the variance amounts to 12 principal components.\n",
    "Now we compute these components, and then use the inverse of the transform to reconstruct the filtered digits:"
   ]
  },
  {
   "cell_type": "code",
   "execution_count": 13,
   "metadata": {},
   "outputs": [],
   "source": [
    "# Transform data into PCA space with 12 axes\n"
   ]
  },
  {
   "cell_type": "code",
   "execution_count": 14,
   "metadata": {},
   "outputs": [],
   "source": [
    "#compare with the original and noisy data.\n"
   ]
  },
  {
   "cell_type": "code",
   "execution_count": null,
   "metadata": {},
   "outputs": [],
   "source": []
  }
 ],
 "metadata": {
  "kernelspec": {
   "display_name": "Python 3",
   "language": "python",
   "name": "python3"
  },
  "language_info": {
   "codemirror_mode": {
    "name": "ipython",
    "version": 3
   },
   "file_extension": ".py",
   "mimetype": "text/x-python",
   "name": "python",
   "nbconvert_exporter": "python",
   "pygments_lexer": "ipython3",
   "version": "3.7.6"
  }
 },
 "nbformat": 4,
 "nbformat_minor": 2
}
